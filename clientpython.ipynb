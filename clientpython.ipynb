{
 "cells": [
  {
   "cell_type": "code",
   "execution_count": 1,
   "metadata": {},
   "outputs": [
    {
     "name": "stdout",
     "output_type": "stream",
     "text": [
      "----------------------------------------------------\n",
      "Connected to CHAT-BOX Server @  192.168.0.105\n",
      "----------------------------------------------------\n",
      "PLEASE ENTER YOUR DETAILS\n",
      "YOUR NAME IS :roshan\n",
      "YOUR EMAIL IS :roshan@gmail.com\n",
      "YOUR CELL NUMBER IS :6778676767\n",
      "\n",
      "Good Afternoon Roshan This is MINI, How can I help you ?\n",
      "\n",
      "ANY QUERY?    : fees\n",
      "MINI-BOT : \n",
      "Full Time Program fee: 650000.00 INR (inclusive tax)  \n",
      "Installments: \n",
      "1st Installment 190000.00 INR  \n",
      "2nd Installment 190000.00 INR  \n",
      "3rd Installment 190000.00 INR \n",
      "For On campus Part Time Executive Program Fee \n",
      "Mumbai 4.5 lacs (inclusive tax)  \n",
      "Pune 3.0 lacs (inclusive tax)  \n",
      "Bangalore 3.6 lacs (inclusive tax)  \n",
      "Part Time Online Executive Program fee: 275000.00 INR\n",
      " \n",
      "\n",
      "___________________________________________________\n",
      "\n",
      "ANY QUERY?    : no\n",
      "Have a nice Day Roshan\n",
      "\n",
      "------------MINI IS NOW OFFLINE------------\n"
     ]
    }
   ],
   "source": [
    "import socket\n",
    "import datetime\n",
    "server=socket.socket()\n",
    "host=socket.gethostname()\n",
    "port=4444\n",
    "server.connect((host,port))\n",
    "print(\"----------------------------------------------------\")\n",
    "print(\"Connected to CHAT-BOX Server @ \", socket.gethostbyname(host))\n",
    "print(\"----------------------------------------------------\")\n",
    "print(\"PLEASE ENTER YOUR DETAILS\")\n",
    "username=input(\"YOUR NAME IS :\")\n",
    "server.send(username.encode())\n",
    "\n",
    "email=input(\"YOUR EMAIL IS :\")\n",
    "server.send(email.encode())\n",
    "\n",
    "phone=input(\"YOUR CELL NUMBER IS :\")\n",
    "server.send(phone.encode())\n",
    "\n",
    "greet=\"This is MINI, How can I help you ?\"\n",
    "timetoday=int(datetime.datetime.today().strftime(\"%H\"))\n",
    "if timetoday >=6 and timetoday < 12:\n",
    "    print(\"\\nGood Morning\", username.title(), greet)\n",
    "elif timetoday >=12 and timetoday < 16:\n",
    "    print(\"\\nGood Afternoon\", username.title(), greet)\n",
    "elif timetoday >= 16 and timetoday < 22:\n",
    "    print(\"\\nGood Evening\", username.title(), greet)\n",
    "else:\n",
    "    print(\"\\nPlease Try after 6 A.M\")\n",
    "\n",
    "while 1:\n",
    "    msg=input(str(\"\\nANY QUERY?    : \"))\n",
    "    msg=msg.encode()\n",
    "    server.send(msg)\n",
    "    rec_msg=server.recv(2048)\n",
    "    rec_msg=rec_msg.decode()\n",
    "    if rec_msg == 'Thankyou !':\n",
    "        print(\"Have a nice Day\", username.title())\n",
    "        print(\"\\n------------MINI IS NOW OFFLINE------------\")\n",
    "        server.close()\n",
    "        break\n",
    "    else:\n",
    "        print(\"MINI-BOT :\",rec_msg,\"\\n\")\n",
    "        print(\"___________________________________________________\")"
   ]
  }
 ],
 "metadata": {
  "kernelspec": {
   "display_name": "Python 3",
   "language": "python",
   "name": "python3"
  },
  "language_info": {
   "codemirror_mode": {
    "name": "ipython",
    "version": 3
   },
   "file_extension": ".py",
   "mimetype": "text/x-python",
   "name": "python",
   "nbconvert_exporter": "python",
   "pygments_lexer": "ipython3",
   "version": "3.7.0"
  }
 },
 "nbformat": 4,
 "nbformat_minor": 2
}
